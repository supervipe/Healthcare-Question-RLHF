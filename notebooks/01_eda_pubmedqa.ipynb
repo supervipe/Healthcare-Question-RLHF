{
 "cells": [
  {
   "cell_type": "markdown",
   "id": "6a0798e5",
   "metadata": {},
   "source": [
    "## Processing the Data"
   ]
  },
  {
   "cell_type": "code",
   "execution_count": 5,
   "id": "e51a7a6d",
   "metadata": {},
   "outputs": [],
   "source": [
    "from pathlib import Path\n",
    "import json, re, random\n",
    "from collections import Counter\n",
    "from typing import Dict, Any, List, Tuple\n",
    "\n",
    "RAW_PATH = Path(\"data/raw/ori_pqal.json\")\n",
    "OUT_DIR  = Path(\"data/processed\")\n",
    "SEED = 42\n",
    "SPLIT_RATIOS = (0.80, 0.10, 0.10)\n",
    "VALID_DECISIONS = {\"yes\", \"no\", \"maybe\"}\n",
    "random.seed(SEED)"
   ]
  },
  {
   "cell_type": "code",
   "execution_count": 7,
   "id": "41ee5766",
   "metadata": {},
   "outputs": [
    {
     "data": {
      "text/plain": [
       "(1000, ['21645374', '16418930', '9488747'])"
      ]
     },
     "execution_count": 7,
     "metadata": {},
     "output_type": "execute_result"
    }
   ],
   "source": [
    "with RAW_PATH.open(\"r\", encoding=\"utf-8\") as f:\n",
    "    raw = json.load(f)\n",
    "\n",
    "len(raw), list(raw.keys())[:3]"
   ]
  },
  {
   "cell_type": "code",
   "execution_count": 8,
   "id": "61ef1775",
   "metadata": {},
   "outputs": [
    {
     "data": {
      "text/plain": [
       "{'QUESTION': 'Do mitochondria play a role in remodelling lace plant leaves during programmed cell death?',\n",
       " 'CONTEXTS': ['Programmed cell death (PCD) is the regulated death of cells within an organism. The lace plant (Aponogeton madagascariensis) produces perforations in its leaves through PCD. The leaves of the plant consist of a latticework of longitudinal and transverse veins enclosing areoles. PCD occurs in the cells at the center of these areoles and progresses outwards, stopping approximately five cells from the vasculature. The role of mitochondria during PCD has been recognized in animals; however, it has been less studied during PCD in plants.',\n",
       "  'The following paper elucidates the role of mitochondrial dynamics during developmentally regulated PCD in vivo in A. madagascariensis. A single areole within a window stage leaf (PCD is occurring) was divided into three areas based on the progression of PCD; cells that will not undergo PCD (NPCD), cells in early stages of PCD (EPCD), and cells in late stages of PCD (LPCD). Window stage leaves were stained with the mitochondrial dye MitoTracker Red CMXRos and examined. Mitochondrial dynamics were delineated into four categories (M1-M4) based on characteristics including distribution, motility, and membrane potential (ΔΨm). A TUNEL assay showed fragmented nDNA in a gradient over these mitochondrial stages. Chloroplasts and transvacuolar strands were also examined using live cell imaging. The possible importance of mitochondrial permeability transition pore (PTP) formation during PCD was indirectly examined via in vivo cyclosporine A (CsA) treatment. This treatment resulted in lace plant leaves with a significantly lower number of perforations compared to controls, and that displayed mitochondrial dynamics similar to that of non-PCD cells.'],\n",
       " 'LABELS': ['BACKGROUND', 'RESULTS'],\n",
       " 'MESHES': ['Alismataceae',\n",
       "  'Apoptosis',\n",
       "  'Cell Differentiation',\n",
       "  'Mitochondria',\n",
       "  'Plant Leaves'],\n",
       " 'YEAR': '2011',\n",
       " 'reasoning_required_pred': 'yes',\n",
       " 'reasoning_free_pred': 'yes',\n",
       " 'final_decision': 'yes',\n",
       " 'LONG_ANSWER': 'Results depicted mitochondrial dynamics in vivo as PCD progresses within the lace plant, and highlight the correlation of this organelle with other organelles during developmental PCD. To the best of our knowledge, this is the first report of mitochondria and chloroplasts moving on transvacuolar strands to form a ring structure surrounding the nucleus during developmental PCD. Also, for the first time, we have shown the feasibility for the use of CsA in a whole plant system. Overall, our findings implicate the mitochondria as playing a critical and early role in developmentally regulated PCD in the lace plant.'}"
      ]
     },
     "execution_count": 8,
     "metadata": {},
     "output_type": "execute_result"
    }
   ],
   "source": [
    "# peek a single item (replace with a real key from above)\n",
    "sample_key = next(iter(raw.keys()))\n",
    "raw[sample_key]"
   ]
  },
  {
   "cell_type": "code",
   "execution_count": 10,
   "id": "f245e722",
   "metadata": {},
   "outputs": [],
   "source": [
    "def normalize(text: str) -> str:\n",
    "    return re.sub(r\"\\s+\", \" \", (text or \"\")).strip()\n",
    "\n",
    "def join_contexts(contexts):\n",
    "    contexts_norm = [normalize(c) for c in (contexts or []) if isinstance(c, str) and c.strip()]\n",
    "    return \"\\n\\n\".join(contexts_norm)\n",
    "\n",
    "def generative_record(pid: str, item: Dict[str, Any]) -> Dict[str, Any]:\n",
    "    return {\n",
    "        \"id\": pid,\n",
    "        \"question\": normalize(item.get(\"QUESTION\", \"\")),\n",
    "        \"context\": join_contexts(item.get(\"CONTEXTS\", [])),\n",
    "        \"answer\": normalize(item.get(\"LONG_ANSWER\", \"\")),\n",
    "        \"year\": item.get(\"YEAR\", None),\n",
    "        \"labels\": item.get(\"LABELS\", []),\n",
    "        \"final_decision\": normalize(item.get(\"final_decision\", \"\")).lower(),\n",
    "    }\n",
    "\n",
    "def classification_record(pid: str, item: Dict[str, Any]) -> Dict[str, Any]:\n",
    "    fd = normalize(item.get(\"final_decision\", \"\")).lower()\n",
    "    return {\n",
    "        \"id\": pid,\n",
    "        \"question\": normalize(item.get(\"QUESTION\", \"\")),\n",
    "        \"context\": join_contexts(item.get(\"CONTEXTS\", [])),\n",
    "        \"target\": fd if fd in {\"yes\",\"no\",\"maybe\"} else None,\n",
    "        \"year\": item.get(\"YEAR\", None),\n",
    "        \"labels\": item.get(\"LABELS\", []),\n",
    "    }"
   ]
  },
  {
   "cell_type": "code",
   "execution_count": 12,
   "id": "648032f9",
   "metadata": {},
   "outputs": [
    {
     "data": {
      "text/plain": [
       "(1000,\n",
       " 1000,\n",
       " {'id': '21645374',\n",
       "  'question': 'Do mitochondria play a role in remodelling lace plant leaves during programmed cell death?',\n",
       "  'context': 'Programmed cell death (PCD) is the regulated death of cells within an organism. The lace plant (Aponogeton madagascariensis) produces perforations in its leaves through PCD. The leaves of the plant consist of a latticework of longitudinal and transverse veins enclosing areoles. PCD occurs in the cells at the center of these areoles and progresses outwards, stopping approximately five cells from the vasculature. The role of mitochondria during PCD has been recognized in animals; however, it has been less studied during PCD in plants.\\n\\nThe following paper elucidates the role of mitochondrial dynamics during developmentally regulated PCD in vivo in A. madagascariensis. A single areole within a window stage leaf (PCD is occurring) was divided into three areas based on the progression of PCD; cells that will not undergo PCD (NPCD), cells in early stages of PCD (EPCD), and cells in late stages of PCD (LPCD). Window stage leaves were stained with the mitochondrial dye MitoTracker Red CMXRos and examined. Mitochondrial dynamics were delineated into four categories (M1-M4) based on characteristics including distribution, motility, and membrane potential (ΔΨm). A TUNEL assay showed fragmented nDNA in a gradient over these mitochondrial stages. Chloroplasts and transvacuolar strands were also examined using live cell imaging. The possible importance of mitochondrial permeability transition pore (PTP) formation during PCD was indirectly examined via in vivo cyclosporine A (CsA) treatment. This treatment resulted in lace plant leaves with a significantly lower number of perforations compared to controls, and that displayed mitochondrial dynamics similar to that of non-PCD cells.',\n",
       "  'answer': 'Results depicted mitochondrial dynamics in vivo as PCD progresses within the lace plant, and highlight the correlation of this organelle with other organelles during developmental PCD. To the best of our knowledge, this is the first report of mitochondria and chloroplasts moving on transvacuolar strands to form a ring structure surrounding the nucleus during developmental PCD. Also, for the first time, we have shown the feasibility for the use of CsA in a whole plant system. Overall, our findings implicate the mitochondria as playing a critical and early role in developmentally regulated PCD in the lace plant.',\n",
       "  'year': '2011',\n",
       "  'labels': ['BACKGROUND', 'RESULTS'],\n",
       "  'final_decision': 'yes'})"
      ]
     },
     "execution_count": 12,
     "metadata": {},
     "output_type": "execute_result"
    }
   ],
   "source": [
    "gen_records, clf_records = [], []\n",
    "for pid, item in raw.items():\n",
    "    if isinstance(item, dict):\n",
    "        gen_records.append(generative_record(pid, item))\n",
    "        clf_records.append(classification_record(pid, item))\n",
    "\n",
    "len(gen_records), len(clf_records), gen_records[0]"
   ]
  },
  {
   "cell_type": "code",
   "execution_count": 14,
   "id": "dbf84204",
   "metadata": {},
   "outputs": [
    {
     "data": {
      "text/plain": [
       "(1000, 1000)"
      ]
     },
     "execution_count": 14,
     "metadata": {},
     "output_type": "execute_result"
    }
   ],
   "source": [
    "def drop_incorrect_data(records, mode: str):\n",
    "    out = []\n",
    "    for r in records:\n",
    "        if not r.get(\"question\") or not r.get(\"context\"):\n",
    "            continue\n",
    "        if mode == \"gen\" and not r.get(\"answer\"):\n",
    "            continue\n",
    "        if mode == \"clf\" and r.get(\"target\") not in VALID_DECISIONS:\n",
    "            continue\n",
    "        out.append(r)\n",
    "\n",
    "    return out\n",
    "\n",
    "def dedupe_by_id(records):\n",
    "    seen, out = set(), []\n",
    "    for r in records:\n",
    "        rid = r.get(\"id\")\n",
    "        if rid and rid not in seen:\n",
    "            seen.add(rid)\n",
    "            out.append(r)\n",
    "\n",
    "    return out\n",
    "\n",
    "gen_records = dedupe_by_id(drop_incorrect_data(gen_records, mode=\"gen\"))\n",
    "clf_records = dedupe_by_id(drop_incorrect_data(clf_records, mode=\"clf\"))\n",
    "\n",
    "len(gen_records), len(clf_records)\n"
   ]
  },
  {
   "cell_type": "code",
   "execution_count": 15,
   "id": "97e48576",
   "metadata": {},
   "outputs": [
    {
     "data": {
      "text/plain": [
       "(Counter({'yes': 552, 'no': 338, 'maybe': 110}),\n",
       " Counter({'yes': 552, 'no': 338, 'maybe': 110}))"
      ]
     },
     "execution_count": 15,
     "metadata": {},
     "output_type": "execute_result"
    }
   ],
   "source": [
    "Counter([r[\"final_decision\"] for r in gen_records]), Counter([r[\"target\"] for r in clf_records])"
   ]
  },
  {
   "cell_type": "code",
   "execution_count": 17,
   "id": "2f7348e6",
   "metadata": {},
   "outputs": [
    {
     "data": {
      "text/plain": [
       "(799, 99, 102, 799, 99, 102)"
      ]
     },
     "execution_count": 17,
     "metadata": {},
     "output_type": "execute_result"
    }
   ],
   "source": [
    "def stratified_split(records: List[Dict[str, Any]], key: str):\n",
    "    buckets = {}\n",
    "    for r in records:\n",
    "        buckets.setdefault(r.get(key, \"unkown\"), []).append(r)\n",
    "    \n",
    "    train, val, test = [], [], []\n",
    "    for label, items in buckets.items():\n",
    "        random.shuffle(items)\n",
    "        n = len(items)\n",
    "        n_train = int(SPLIT_RATIOS[0]*n)\n",
    "        n_val = int(SPLIT_RATIOS[1]*n)\n",
    "        train += items[:n_train]\n",
    "        val += items[n_train:n_train+n_val]\n",
    "        test += items[n_train+n_val:]\n",
    "\n",
    "    random.shuffle(train)\n",
    "    random.shuffle(val)\n",
    "    random.shuffle(test)\n",
    "    return train, val, test\n",
    "\n",
    "\n",
    "gen_train, gen_val, gen_test = stratified_split(gen_records, key=\"final_decision\")\n",
    "clf_train, clf_val, clf_test = stratified_split(clf_records, key=\"target\")\n",
    "\n",
    "len(gen_train), len(gen_val), len(gen_test), len(clf_train), len(clf_val), len(clf_test)"
   ]
  },
  {
   "cell_type": "code",
   "execution_count": null,
   "id": "2e602087",
   "metadata": {},
   "outputs": [],
   "source": [
    "def save_json_processed(path: Path, rows):\n",
    "    path.parent.mkdir(parents=True, exist_ok=True)\n",
    "    with path.open(\"w\", encoding=\"utf-8\") as f:\n",
    "        for r in rows:\n",
    "            f.write(json.dumps(r, ensure_ascii=False) + \"\\n\")\n",
    "        \n",
    "save_json_processed(OUT_DIR / \"generative\" / \"train.jsonl\", gen_train)\n",
    "save_json_processed(OUT_DIR / \"generative\" / \"val.jsonl\",   gen_val)\n",
    "save_json_processed(OUT_DIR / \"generative\" / \"test.jsonl\",  gen_test)\n",
    "\n",
    "save_json_processed(OUT_DIR / \"classification\" / \"train.jsonl\", clf_train)\n",
    "save_json_processed(OUT_DIR / \"classification\" / \"val.jsonl\",   clf_val)\n",
    "save_json_processed(OUT_DIR / \"classification\" / \"test.jsonl\",  clf_test)\n",
    "\n",
    "OUT_DIR.resolve()"
   ]
  },
  {
   "cell_type": "code",
   "execution_count": 19,
   "id": "7adeb6b3",
   "metadata": {},
   "outputs": [
    {
     "name": "stdout",
     "output_type": "stream",
     "text": [
      "[GEN train] n=799\n",
      " label dist: {'yes': 441, 'no': 270, 'maybe': 88}\n",
      " avg question chars: 94.0 | avg context chars: 1341.6\n",
      "[GEN val] n=99\n",
      " label dist: {'no': 33, 'yes': 55, 'maybe': 11}\n",
      " avg question chars: 95.1 | avg context chars: 1372.7\n",
      "[GEN test] n=102\n",
      " label dist: {'yes': 56, 'no': 35, 'maybe': 11}\n",
      " avg question chars: 94.8 | avg context chars: 1331.3\n",
      "[CLF train] n=799\n",
      " label dist: {'no': 270, 'yes': 441, 'maybe': 88}\n",
      " avg question chars: 94.9 | avg context chars: 1329.1\n",
      "[CLF val] n=99\n",
      " label dist: {'yes': 55, 'maybe': 11, 'no': 33}\n",
      " avg question chars: 93.0 | avg context chars: 1392.6\n",
      "[CLF test] n=102\n",
      " label dist: {'no': 35, 'yes': 56, 'maybe': 11}\n",
      " avg question chars: 90.0 | avg context chars: 1409.6\n"
     ]
    }
   ],
   "source": [
    "def quick_stats(name, rows, label_field=None):\n",
    "    print(f\"[{name}] n={len(rows)}\")\n",
    "    if label_field:\n",
    "        print(\" label dist:\", dict(Counter([r.get(label_field) for r in rows])))\n",
    "    avg_q = sum(len(r.get(\"question\",\"\")) for r in rows)/max(1,len(rows))\n",
    "    avg_c = sum(len(r.get(\"context\",\"\")) for r in rows)/max(1,len(rows))\n",
    "    print(f\" avg question chars: {avg_q:.1f} | avg context chars: {avg_c:.1f}\")\n",
    "\n",
    "quick_stats(\"GEN train\", gen_train, \"final_decision\")\n",
    "quick_stats(\"GEN val\",   gen_val,   \"final_decision\")\n",
    "quick_stats(\"GEN test\",  gen_test,  \"final_decision\")\n",
    "\n",
    "quick_stats(\"CLF train\", clf_train, \"target\")\n",
    "quick_stats(\"CLF val\",   clf_val,   \"target\")\n",
    "quick_stats(\"CLF test\",  clf_test,  \"target\")\n"
   ]
  }
 ],
 "metadata": {
  "kernelspec": {
   "display_name": ".venv",
   "language": "python",
   "name": "python3"
  },
  "language_info": {
   "codemirror_mode": {
    "name": "ipython",
    "version": 3
   },
   "file_extension": ".py",
   "mimetype": "text/x-python",
   "name": "python",
   "nbconvert_exporter": "python",
   "pygments_lexer": "ipython3",
   "version": "3.11.0"
  }
 },
 "nbformat": 4,
 "nbformat_minor": 5
}
